{
 "cells": [
  {
   "cell_type": "markdown",
   "id": "87999f90-246c-4b8f-b752-975317784ebf",
   "metadata": {
    "tags": []
   },
   "source": [
    "# Sorular"
   ]
  },
  {
   "cell_type": "markdown",
   "id": "648283d0-bdb7-4673-8056-f042edd5c102",
   "metadata": {},
   "source": [
    "[22,27,16,2,18,6] -> Insertion Sort\n",
    "1.\tYukarı verilen dizinin sort türüne göre aşamalarını yazınız.\n",
    "2.\tBig-O gösterimini yazınız.\n",
    "3.\tTime Complexity: Average case: Aradığımız sayının ortada olması,Worst case: Aradığımız sayının sonda olması, Best case: Aradığımız sayının dizinin en başında olması.\n",
    "4.\tDizi sıralandıktan sonra 18 sayısı hangi case kapsamına girer? Yazınız.\n",
    "\n",
    "[7,3,5,8,2,9,4,15,6] dizisinin Insertion Sort'a göre ilk 4 adımını yazınız.\n"
   ]
  },
  {
   "cell_type": "markdown",
   "id": "fee90c0f-03fa-48b4-bbd4-bf24bb171c97",
   "metadata": {},
   "source": [
    "## Cevaplar"
   ]
  },
  {
   "cell_type": "markdown",
   "id": "0b812684-d946-470b-a2fe-849347b0119d",
   "metadata": {},
   "source": [
    "1.\tİlk yol (Türkçe kaynaklara göre olan)\n",
    "\n",
    "    a)\t[22,27,16,2,18,6]\n",
    "    b) \t[16,22,27,2,18,6]\n",
    "    c) \t[2,16,22,27,18,6]\n",
    "    d) \t[2,16,18,22,27,6]\n",
    "    e) \t[2,6,16,18,22,27]\n",
    "\n",
    "    İkinci yol (Yabancı kaynaklara göre)\n",
    "\n",
    "    a)\t[22,27,16,2,18,6]\n",
    "    b)\t[22,16,27,2,18,6]\n",
    "    c)\t[16,22,27,2,18,6]\n",
    "    d)\t[16,22,2,27,18,6]\n",
    "    e)\t[16,2,22,27,18,6]\n",
    "    f)\t[2,16,22,27,18,6]\n",
    "    g)\t[2,16,22,18,27,6]\n",
    "    h)\t[2,16,18,22,27,6]\n",
    "    i)\t[2,16,18,22,6,27]\n",
    "    j)\t[2,16,18,6,22,27]\n",
    "    k)\t[2,16,6,18,22,27]\n",
    "    l)\t[2,6,16,18,22,27]\n",
    "\n",
    "2.\tO(n^2)\n",
    "3.\tBurada tanım yapılmış.\n",
    "4.\tDizi sıralandıktan sonra 18 sayısı dizimizin ortasında kalacağından bu average case kapsamına girmektedir.\n",
    "\n",
    "\n",
    "\n",
    "[7,3,5,8,2,9,4,15,6] dizisinin Insertion Sort'a göre ilk 4 adımını yazınız.\n",
    "    İlk yol (Türkçe kaynaklara göre olan)\n",
    "\n",
    "    1)\t[7,3,5,8,2,9,4,15,6]\n",
    "    2)\t[2,7,3,5,8,9,4,15,6]\n",
    "    3)\t[2,3,7,5,8,9,4,15,6]\n",
    "    4)\t[2,3,4,7,5,8,9,15,6]\n",
    "\n",
    "    İkinci yol (Yabancı kaynaklara göre)\n",
    "\n",
    "    1)\t[7,3,5,8,2,9,4,15,6]\n",
    "    2)\t[7,3,5,2,8,9,4,15,6]\n",
    "    3)\t[7,3,2,5,8,9,4,15,6]\n",
    "    4)\t[7,2,3,5,8,9,4,15,6]\n",
    "\n",
    "\n"
   ]
  }
 ],
 "metadata": {
  "kernelspec": {
   "display_name": "Python 3 (ipykernel)",
   "language": "python",
   "name": "python3"
  },
  "language_info": {
   "codemirror_mode": {
    "name": "ipython",
    "version": 3
   },
   "file_extension": ".py",
   "mimetype": "text/x-python",
   "name": "python",
   "nbconvert_exporter": "python",
   "pygments_lexer": "ipython3",
   "version": "3.10.4"
  }
 },
 "nbformat": 4,
 "nbformat_minor": 5
}
